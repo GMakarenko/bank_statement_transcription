{
 "cells": [
  {
   "cell_type": "markdown",
   "metadata": {},
   "source": [
    "## Calculador de precisión de estados bancarios"
   ]
  },
  {
   "cell_type": "markdown",
   "metadata": {},
   "source": [
    "Una empresa que se dedica a extraer texto de imagenes y pdf colabora con Credijusto.com para extraer informacion de los estados de cuenta bancarios de sus clientes, Credijusto.com utiliza esta información para poder calcular una tasa de interés basada en los flujos de sus estados de cuenta, asi que esta información debe estar libre de errores, algunos errores son comunes, por ejemplo: leer \\$5OO.OO en ves de \\$500.00 (Notar que los ceros estan escritos con la letra 'O' en ves del número 0), tu deber es asegurar que la calidad de la información sea óptima, es decir, que la precisión de la transcripción sea del 100%, para lograrlo deberas completar las siguientes funciones de manera correcta.\n",
    "\n",
    "* Tomar en cuenta que la informacion esta en formato CSV, utilizando como separador el signo = '|'\n",
    "* Puedes utilizar python puro o módulos para análisis de datos (pandas, numpy, etc.)"
   ]
  },
  {
   "cell_type": "code",
   "execution_count": null,
   "metadata": {
    "collapsed": true
   },
   "outputs": [],
   "source": [
    "def load_data(file=\"sample_data/bank_statement_transcription.txt\"):\n",
    "    \"\"\"\n",
    "    Debes cargar la informacion en el tipo de objeto de tu preferencia (list, dict, pandas.DataFrame, etc.)\n",
    "    \"\"\"\n",
    "    # Carga la informacion y retornala en la variable data\n",
    "    # Tu código\n",
    "    \n",
    "    \n",
    "    return data"
   ]
  },
  {
   "cell_type": "code",
   "execution_count": null,
   "metadata": {
    "collapsed": true
   },
   "outputs": [],
   "source": [
    "data = data = load_data()"
   ]
  },
  {
   "cell_type": "code",
   "execution_count": null,
   "metadata": {
    "collapsed": true
   },
   "outputs": [],
   "source": [
    "def detect_corrupted_lines(data):\n",
    "    \"\"\"\n",
    "    Necesitas validar la informacion haciendo operaciones aritméticas entre las columnas del estado de cuenta\n",
    "    y detectar los registros que estan corruptos, guarda el indice de estos registros en la variable corrupted_lines\n",
    "    , considera que la primera linea del archivo tiene índice 1, la siguiente linea el 2 y así sucesivamente.\n",
    "    \"\"\"\n",
    "    corrupted_lines = []\n",
    "    # Tu código\n",
    "    \n",
    "    \n",
    "    return corrupted_lines"
   ]
  },
  {
   "cell_type": "code",
   "execution_count": null,
   "metadata": {
    "collapsed": true
   },
   "outputs": [],
   "source": [
    "corrupted_lines = detect_corrupted_lines(data)\n",
    "print(\"Registros corruptos en el estado de cuenta: 4\")\n",
    "print(\"Total de registros corruptos detectados:\", len(corrupted_lines))"
   ]
  },
  {
   "cell_type": "markdown",
   "metadata": {},
   "source": [
    "Hemos notado que el banco omite escribir signos negativos en los estados de cuenta que podrían representar movimientos cancelados,estos errores **no** pueden ser reparados por la empresa colaboradora, podrías decirnos cuales son y reparar estos registros? \n",
    "* Los movimientos cancelados obviamente están dentro de la lista de errores que has calculado\n",
    "* No puedes modificar la columna 'balance'"
   ]
  },
  {
   "cell_type": "code",
   "execution_count": null,
   "metadata": {
    "collapsed": true
   },
   "outputs": [],
   "source": [
    "def repair_canceled_moves(corrupted_lines, data):\n",
    "    \"\"\"\n",
    "    Encuentra la forma de detectar numeros que deberían ser negativos, retorna toda la información \n",
    "    con los registros reparados en la variable repaired_data ademas de lista de registros reparados (como lo hiciste con corrupted_lines).\n",
    "    Observa que tambien tienes disponible la variable 'corrupted_lines'\n",
    "    \"\"\"\n",
    "    repaired_records = []\n",
    "    # Tu codigo\n",
    "    \n",
    "    \n",
    "    return repaired_data, repaired_records    "
   ]
  },
  {
   "cell_type": "code",
   "execution_count": null,
   "metadata": {
    "collapsed": true
   },
   "outputs": [],
   "source": [
    "repaired_data, repaired_records = repair_canceled_moves(corrupted_lines, data)\n",
    "print(\"Registros a reparar: 2\")\n",
    "print(\"Registros cancelados detectados:\", len(repaired_records))\n",
    "\n",
    "# Checar nuevamente\n",
    "corrupted_lines = detect_corrupted_lines(repaired_data)\n",
    "print(\"Total de registros que SI pueden reparar los colaboradores:\", len(corrupted_lines))"
   ]
  },
  {
   "cell_type": "markdown",
   "metadata": {},
   "source": [
    "## Hasta aqui has cumplido con tu deber. Ahora estamos listos para pedir una correción solo de errores relacionados a una mala transcripcion."
   ]
  },
  {
   "cell_type": "markdown",
   "metadata": {},
   "source": [
    "### Si resuelves (o explicas) los errores faltantes ganas puntos extra"
   ]
  },
  {
   "cell_type": "code",
   "execution_count": null,
   "metadata": {
    "collapsed": true
   },
   "outputs": [],
   "source": []
  }
 ],
 "metadata": {
  "kernelspec": {
   "display_name": "Python 3",
   "language": "python",
   "name": "python3"
  },
  "language_info": {
   "codemirror_mode": {
    "name": "ipython",
    "version": 3
   },
   "file_extension": ".py",
   "mimetype": "text/x-python",
   "name": "python",
   "nbconvert_exporter": "python",
   "pygments_lexer": "ipython3",
   "version": "3.6.0"
  }
 },
 "nbformat": 4,
 "nbformat_minor": 2
}
